{
 "cells": [
  {
   "attachments": {},
   "cell_type": "markdown",
   "metadata": {},
   "source": [
    "### Hate Speech Detection using PyTorch and Hugging Face Transformers\n",
    "Hate speech detection task to determine if a piece of text contains hateful content.\n",
    "\n",
    "Data: A twitter corpus study of US Elections 2020 on the basis of Offensive speech and Stance detection.\n",
    "\n",
    "Data URL: https://www.ims.uni-stuttgart.de/forschung/ressourcen/korpora/stance-hof/"
   ]
  },
  {
   "attachments": {},
   "cell_type": "markdown",
   "metadata": {},
   "source": [
    "#### GPU Setup"
   ]
  },
  {
   "cell_type": "code",
   "execution_count": 4,
   "metadata": {},
   "outputs": [
    {
     "name": "stdout",
     "output_type": "stream",
     "text": [
      "The GPU that is used:  NVIDIA GeForce RTX 3060 Ti\n"
     ]
    }
   ],
   "source": [
    "import torch\n",
    "\n",
    "# If GPU is available\n",
    "if torch.cuda.is_available():\n",
    "    # PyTorch will use GPU\n",
    "    device = torch.device(\"cuda\")\n",
    "    print(\"The GPU that is used: \", torch.cuda.get_device_name(0))\n",
    "\n",
    "# If GPU is not available\n",
    "else:\n",
    "    # PyTorch will use CPU\n",
    "    device = torch.device(\"cpu\")\n",
    "    print(\"No GPU available, CPU is used.\")"
   ]
  },
  {
   "cell_type": "code",
   "execution_count": null,
   "metadata": {},
   "outputs": [],
   "source": []
  }
 ],
 "metadata": {
  "kernelspec": {
   "display_name": "Python 3",
   "language": "python",
   "name": "python3"
  },
  "language_info": {
   "codemirror_mode": {
    "name": "ipython",
    "version": 3
   },
   "file_extension": ".py",
   "mimetype": "text/x-python",
   "name": "python",
   "nbconvert_exporter": "python",
   "pygments_lexer": "ipython3",
   "version": "3.9.16"
  },
  "orig_nbformat": 4
 },
 "nbformat": 4,
 "nbformat_minor": 2
}
